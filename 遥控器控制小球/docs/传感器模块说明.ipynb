{
 "cells": [
  {
   "cell_type": "markdown",
   "metadata": {},
   "source": [
    "# 传感器模块说明\n",
    "\n",
    "本模块包含传感器的基本信息和使用方法。\n"
   ]
  },
  {
   "cell_type": "markdown",
   "metadata": {},
   "source": [
    "## 传感器类型\n",
    "\n",
    "传感器类型包括但不限于：\n",
    "- 温度传感器\n",
    "- 湿度传感器\n",
    "- 光传感器\n",
    "- 压力传感器\n"
   ]
  },
  {
   "cell_type": "markdown",
   "metadata": {},
   "source": [
    "## 使用方法\n",
    "\n",
    "1. 初始化传感器对象：\n",
    "```python\n",
    "sensor = Sensor('温度传感器')\n",
    "```\n",
    "2. 读取传感器值：\n",
    "```python\n",
    "value = sensor.readValue()\n",
    "print(f'当前传感器值: {value}')\n",
    "```\n"
   ]
  }
 ],
 "metadata": {
  "kernelspec": {
   "display_name": "Python 3",
   "language": "python",
   "name": "python3"
  },
  "language_info": {
   "codemirror_mode": {
    "name": "ipython",
    "version": 3
   },
   "file_extension": ".py",
   "mimetype": "text/x-python",
   "name": "python",
   "nbconvert_exporter": "python",
   "pygments_lexer": "ipython3",
   "version": "3.10.6"
  }
 },
 "nbformat": 4,
 "nbformat_minor": 4
}
